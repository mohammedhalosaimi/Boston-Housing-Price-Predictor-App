{
 "cells": [
  {
   "cell_type": "code",
   "execution_count": 1,
   "metadata": {},
   "outputs": [],
   "source": [
    "# !pip install tensorflow\n",
    "# !pip install keras"
   ]
  },
  {
   "cell_type": "code",
   "execution_count": 2,
   "metadata": {},
   "outputs": [
    {
     "name": "stderr",
     "output_type": "stream",
     "text": [
      "Using TensorFlow backend.\n"
     ]
    }
   ],
   "source": [
    "# import packages\n",
    "import pandas as pd\n",
    "import numpy as np\n",
    "import matplotlib.pyplot as plt\n",
    "import seaborn as sns\n",
    "\n",
    "from sklearn.preprocessing import StandardScaler, normalize, Imputer, OneHotEncoder\n",
    "from sklearn.pipeline import Pipeline, FeatureUnion\n",
    "from sklearn.model_selection import train_test_split, cross_val_score, GridSearchCV\n",
    "from sklearn.linear_model import Ridge, Lasso, LinearRegression, LogisticRegression, LassoCV, RidgeCV, SGDRegressor\n",
    "from sklearn.naive_bayes import BernoulliNB, GaussianNB, MultinomialNB\n",
    "from sklearn.multioutput import MultiOutputRegressor\n",
    "from sklearn.svm import SVR\n",
    "from sklearn.ensemble import RandomForestRegressor, AdaBoostRegressor, BaggingRegressor, GradientBoostingRegressor\n",
    "\n",
    "from sklearn.metrics import mean_squared_error\n",
    "\n",
    "from imblearn.over_sampling import SMOTE\n",
    "\n",
    "from keras.models import Sequential\n",
    "from keras.optimizers import adam, SGD\n",
    "from keras.activations import relu, sigmoid, softmax\n",
    "from keras.layers import Dense\n",
    "from keras.callbacks import EarlyStopping"
   ]
  },
  {
   "cell_type": "code",
   "execution_count": 69,
   "metadata": {},
   "outputs": [],
   "source": [
    "# load two data\n",
    "df1 = pd.read_csv('data/otp.csv')\n",
    "df2 = pd.read_excel('data/OTP_Time_Series_Master_Current_0719.xlsx')"
   ]
  },
  {
   "cell_type": "code",
   "execution_count": 70,
   "metadata": {},
   "outputs": [
    {
     "data": {
      "text/html": [
       "<div>\n",
       "<style scoped>\n",
       "    .dataframe tbody tr th:only-of-type {\n",
       "        vertical-align: middle;\n",
       "    }\n",
       "\n",
       "    .dataframe tbody tr th {\n",
       "        vertical-align: top;\n",
       "    }\n",
       "\n",
       "    .dataframe thead th {\n",
       "        text-align: right;\n",
       "    }\n",
       "</style>\n",
       "<table border=\"1\" class=\"dataframe\">\n",
       "  <thead>\n",
       "    <tr style=\"text-align: right;\">\n",
       "      <th></th>\n",
       "      <th>Route</th>\n",
       "      <th>Departing_Port</th>\n",
       "      <th>Arriving_Port</th>\n",
       "      <th>Airline</th>\n",
       "      <th>Month</th>\n",
       "      <th>Sectors_Scheduled</th>\n",
       "      <th>Sectors_Flown</th>\n",
       "      <th>Cancellations</th>\n",
       "      <th>Departures_On_Time</th>\n",
       "      <th>Arrivals_On_Time</th>\n",
       "      <th>Departures_Delayed</th>\n",
       "      <th>Arrivals_Delayed</th>\n",
       "      <th>Year</th>\n",
       "      <th>Month_Num</th>\n",
       "    </tr>\n",
       "  </thead>\n",
       "  <tbody>\n",
       "    <tr>\n",
       "      <th>0</th>\n",
       "      <td>Adelaide-Brisbane</td>\n",
       "      <td>Adelaide</td>\n",
       "      <td>Brisbane</td>\n",
       "      <td>All Airlines</td>\n",
       "      <td>37987</td>\n",
       "      <td>155.0</td>\n",
       "      <td>155</td>\n",
       "      <td>0.0</td>\n",
       "      <td>123.0</td>\n",
       "      <td>120.0</td>\n",
       "      <td>32.0</td>\n",
       "      <td>35.0</td>\n",
       "      <td>2004</td>\n",
       "      <td>1</td>\n",
       "    </tr>\n",
       "    <tr>\n",
       "      <th>1</th>\n",
       "      <td>Adelaide-Canberra</td>\n",
       "      <td>Adelaide</td>\n",
       "      <td>Canberra</td>\n",
       "      <td>All Airlines</td>\n",
       "      <td>37987</td>\n",
       "      <td>75.0</td>\n",
       "      <td>75</td>\n",
       "      <td>0.0</td>\n",
       "      <td>72.0</td>\n",
       "      <td>72.0</td>\n",
       "      <td>3.0</td>\n",
       "      <td>3.0</td>\n",
       "      <td>2004</td>\n",
       "      <td>1</td>\n",
       "    </tr>\n",
       "    <tr>\n",
       "      <th>2</th>\n",
       "      <td>Adelaide-Gold Coast</td>\n",
       "      <td>Adelaide</td>\n",
       "      <td>Gold Coast</td>\n",
       "      <td>All Airlines</td>\n",
       "      <td>37987</td>\n",
       "      <td>40.0</td>\n",
       "      <td>40</td>\n",
       "      <td>0.0</td>\n",
       "      <td>36.0</td>\n",
       "      <td>35.0</td>\n",
       "      <td>4.0</td>\n",
       "      <td>5.0</td>\n",
       "      <td>2004</td>\n",
       "      <td>1</td>\n",
       "    </tr>\n",
       "    <tr>\n",
       "      <th>3</th>\n",
       "      <td>Adelaide-Melbourne</td>\n",
       "      <td>Adelaide</td>\n",
       "      <td>Melbourne</td>\n",
       "      <td>All Airlines</td>\n",
       "      <td>37987</td>\n",
       "      <td>550.0</td>\n",
       "      <td>548</td>\n",
       "      <td>2.0</td>\n",
       "      <td>478.0</td>\n",
       "      <td>487.0</td>\n",
       "      <td>70.0</td>\n",
       "      <td>61.0</td>\n",
       "      <td>2004</td>\n",
       "      <td>1</td>\n",
       "    </tr>\n",
       "    <tr>\n",
       "      <th>4</th>\n",
       "      <td>Adelaide-Perth</td>\n",
       "      <td>Adelaide</td>\n",
       "      <td>Perth</td>\n",
       "      <td>All Airlines</td>\n",
       "      <td>37987</td>\n",
       "      <td>191.0</td>\n",
       "      <td>191</td>\n",
       "      <td>0.0</td>\n",
       "      <td>169.0</td>\n",
       "      <td>168.0</td>\n",
       "      <td>22.0</td>\n",
       "      <td>23.0</td>\n",
       "      <td>2004</td>\n",
       "      <td>1</td>\n",
       "    </tr>\n",
       "  </tbody>\n",
       "</table>\n",
       "</div>"
      ],
      "text/plain": [
       "                 Route Departing_Port Arriving_Port       Airline  Month  \\\n",
       "0    Adelaide-Brisbane       Adelaide      Brisbane  All Airlines  37987   \n",
       "1    Adelaide-Canberra       Adelaide      Canberra  All Airlines  37987   \n",
       "2  Adelaide-Gold Coast       Adelaide    Gold Coast  All Airlines  37987   \n",
       "3   Adelaide-Melbourne       Adelaide     Melbourne  All Airlines  37987   \n",
       "4       Adelaide-Perth       Adelaide         Perth  All Airlines  37987   \n",
       "\n",
       "   Sectors_Scheduled  Sectors_Flown  Cancellations  Departures_On_Time  \\\n",
       "0              155.0            155            0.0               123.0   \n",
       "1               75.0             75            0.0                72.0   \n",
       "2               40.0             40            0.0                36.0   \n",
       "3              550.0            548            2.0               478.0   \n",
       "4              191.0            191            0.0               169.0   \n",
       "\n",
       "   Arrivals_On_Time  Departures_Delayed  Arrivals_Delayed  Year  Month_Num  \n",
       "0             120.0                32.0              35.0  2004          1  \n",
       "1              72.0                 3.0               3.0  2004          1  \n",
       "2              35.0                 4.0               5.0  2004          1  \n",
       "3             487.0                70.0              61.0  2004          1  \n",
       "4             168.0                22.0              23.0  2004          1  "
      ]
     },
     "execution_count": 70,
     "metadata": {},
     "output_type": "execute_result"
    }
   ],
   "source": [
    "df1.head()"
   ]
  },
  {
   "cell_type": "code",
   "execution_count": 71,
   "metadata": {},
   "outputs": [],
   "source": [
    "# df 1\n",
    "\n",
    "# drop route column since we have it splitted into two columns (Departing_Port, Arriving_Port)\n",
    "# drop Month columns since it is splitted into two columns (Year, Month_Num)\n",
    "df1.drop(['Route', 'Month', 'Cancellations'], axis=1, inplace=True)"
   ]
  },
  {
   "cell_type": "code",
   "execution_count": 77,
   "metadata": {},
   "outputs": [
    {
     "data": {
      "text/html": [
       "<div>\n",
       "<style scoped>\n",
       "    .dataframe tbody tr th:only-of-type {\n",
       "        vertical-align: middle;\n",
       "    }\n",
       "\n",
       "    .dataframe tbody tr th {\n",
       "        vertical-align: top;\n",
       "    }\n",
       "\n",
       "    .dataframe thead th {\n",
       "        text-align: right;\n",
       "    }\n",
       "</style>\n",
       "<table border=\"1\" class=\"dataframe\">\n",
       "  <thead>\n",
       "    <tr style=\"text-align: right;\">\n",
       "      <th></th>\n",
       "      <th>Departing Port</th>\n",
       "      <th>Arriving Port</th>\n",
       "      <th>Airline</th>\n",
       "      <th>Sectors Scheduled</th>\n",
       "      <th>Sectors Flown</th>\n",
       "      <th>Departures On Time</th>\n",
       "      <th>Arrivals On Time</th>\n",
       "      <th>Departures Delayed</th>\n",
       "      <th>Arrivals Delayed</th>\n",
       "      <th>Month_Num</th>\n",
       "      <th>Year</th>\n",
       "    </tr>\n",
       "  </thead>\n",
       "  <tbody>\n",
       "    <tr>\n",
       "      <th>0</th>\n",
       "      <td>Adelaide</td>\n",
       "      <td>Brisbane</td>\n",
       "      <td>Jetstar</td>\n",
       "      <td>30</td>\n",
       "      <td>30</td>\n",
       "      <td>25</td>\n",
       "      <td>24</td>\n",
       "      <td>5</td>\n",
       "      <td>6</td>\n",
       "      <td>1</td>\n",
       "      <td>2018</td>\n",
       "    </tr>\n",
       "    <tr>\n",
       "      <th>1</th>\n",
       "      <td>Adelaide</td>\n",
       "      <td>Gold Coast</td>\n",
       "      <td>Jetstar</td>\n",
       "      <td>40</td>\n",
       "      <td>40</td>\n",
       "      <td>34</td>\n",
       "      <td>35</td>\n",
       "      <td>6</td>\n",
       "      <td>5</td>\n",
       "      <td>1</td>\n",
       "      <td>2018</td>\n",
       "    </tr>\n",
       "    <tr>\n",
       "      <th>2</th>\n",
       "      <td>Adelaide</td>\n",
       "      <td>Melbourne</td>\n",
       "      <td>Jetstar</td>\n",
       "      <td>123</td>\n",
       "      <td>119</td>\n",
       "      <td>86</td>\n",
       "      <td>94</td>\n",
       "      <td>33</td>\n",
       "      <td>25</td>\n",
       "      <td>1</td>\n",
       "      <td>2018</td>\n",
       "    </tr>\n",
       "    <tr>\n",
       "      <th>3</th>\n",
       "      <td>Adelaide</td>\n",
       "      <td>Perth</td>\n",
       "      <td>Jetstar</td>\n",
       "      <td>30</td>\n",
       "      <td>30</td>\n",
       "      <td>19</td>\n",
       "      <td>25</td>\n",
       "      <td>11</td>\n",
       "      <td>5</td>\n",
       "      <td>1</td>\n",
       "      <td>2018</td>\n",
       "    </tr>\n",
       "    <tr>\n",
       "      <th>4</th>\n",
       "      <td>Adelaide</td>\n",
       "      <td>Sydney</td>\n",
       "      <td>Jetstar</td>\n",
       "      <td>142</td>\n",
       "      <td>135</td>\n",
       "      <td>107</td>\n",
       "      <td>115</td>\n",
       "      <td>28</td>\n",
       "      <td>20</td>\n",
       "      <td>1</td>\n",
       "      <td>2018</td>\n",
       "    </tr>\n",
       "  </tbody>\n",
       "</table>\n",
       "</div>"
      ],
      "text/plain": [
       "  Departing Port Arriving Port  Airline  Sectors Scheduled  Sectors Flown  \\\n",
       "0       Adelaide      Brisbane  Jetstar                 30             30   \n",
       "1       Adelaide    Gold Coast  Jetstar                 40             40   \n",
       "2       Adelaide     Melbourne  Jetstar                123            119   \n",
       "3       Adelaide         Perth  Jetstar                 30             30   \n",
       "4       Adelaide        Sydney  Jetstar                142            135   \n",
       "\n",
       "   Departures On Time  Arrivals On Time  Departures Delayed  Arrivals Delayed  \\\n",
       "0                  25                24                   5                 6   \n",
       "1                  34                35                   6                 5   \n",
       "2                  86                94                  33                25   \n",
       "3                  19                25                  11                 5   \n",
       "4                 107               115                  28                20   \n",
       "\n",
       "   Month_Num  Year  \n",
       "0          1  2018  \n",
       "1          1  2018  \n",
       "2          1  2018  \n",
       "3          1  2018  \n",
       "4          1  2018  "
      ]
     },
     "execution_count": 77,
     "metadata": {},
     "output_type": "execute_result"
    }
   ],
   "source": [
    "df2.head()"
   ]
  },
  {
   "cell_type": "code",
   "execution_count": 73,
   "metadata": {},
   "outputs": [],
   "source": [
    "# df 2\n",
    "\n",
    "# first, convert Month datatype (time-stamp) to string\n",
    "df2['Month'] = df2['Month'].astype('str')\n",
    "# split Month column into two columns (Month & Year) to match the first dataframe\n",
    "df2['Month_Num'] = df2['Month'].str.split('-').str[1].str.lstrip('0')\n",
    "df2['Year'] = df2['Month'].str.split('-').str[0]\n",
    "\n",
    "# after modifying the columns as we wish, we will convert them to int data type\n",
    "\n",
    "df2['Month_Num'] = df2['Month_Num'].astype(int)\n",
    "df2['Year'] = df2['Year'].astype(int)"
   ]
  },
  {
   "cell_type": "code",
   "execution_count": 74,
   "metadata": {},
   "outputs": [
    {
     "data": {
      "text/plain": [
       "Index(['Route', 'Departing Port', 'Arriving Port', 'Airline', 'Month',\n",
       "       'Sectors Scheduled', 'Sectors Flown', 'Cancellations',\n",
       "       'Departures On Time', 'Arrivals On Time', 'Departures Delayed',\n",
       "       'Arrivals Delayed', 'OnTime Departures \\n(%)', 'OnTime Arrivals \\n(%)',\n",
       "       'Cancellations \\n\\n(%)', 'Month_Num', 'Year'],\n",
       "      dtype='object')"
      ]
     },
     "execution_count": 74,
     "metadata": {},
     "output_type": "execute_result"
    }
   ],
   "source": [
    "df2.columns"
   ]
  },
  {
   "cell_type": "code",
   "execution_count": 76,
   "metadata": {},
   "outputs": [],
   "source": [
    "# df 2\n",
    "\n",
    "# drop route column since we have it splitted into two columns (Departing_Port, Arriving_Port)\n",
    "# drop Month columns since it is splitted into two columns (Year, Month_Num)\n",
    "df2.drop(['Route', 'Month', 'OnTime Departures \\n(%)', 'OnTime Arrivals \\n(%)', 'Cancellations',\n",
    "          'Cancellations \\n\\n(%)'], axis=1, inplace=True)"
   ]
  },
  {
   "cell_type": "code",
   "execution_count": 78,
   "metadata": {},
   "outputs": [],
   "source": [
    "# df2\n",
    "\n",
    "# set df2 columns names to match df1 columns names setting\n",
    "df2.columns = df2.columns.str.replace(' ', '_')"
   ]
  },
  {
   "cell_type": "code",
   "execution_count": 79,
   "metadata": {},
   "outputs": [
    {
     "data": {
      "text/plain": [
       "((80615, 11), (10313, 11))"
      ]
     },
     "execution_count": 79,
     "metadata": {},
     "output_type": "execute_result"
    }
   ],
   "source": [
    "# check the shape of the data\n",
    "df1.shape, df2.shape"
   ]
  },
  {
   "cell_type": "code",
   "execution_count": 80,
   "metadata": {},
   "outputs": [
    {
     "data": {
      "text/plain": [
       "array([ 1,  2,  3,  4,  5,  6,  7,  8,  9, 10, 11, 12])"
      ]
     },
     "execution_count": 80,
     "metadata": {},
     "output_type": "execute_result"
    }
   ],
   "source": [
    "df2.Month_Num.unique()"
   ]
  },
  {
   "cell_type": "code",
   "execution_count": 81,
   "metadata": {},
   "outputs": [
    {
     "name": "stderr",
     "output_type": "stream",
     "text": [
      "/Users/Mohammed/anaconda3/lib/python3.7/site-packages/ipykernel_launcher.py:3: FutureWarning: Sorting because non-concatenation axis is not aligned. A future version\n",
      "of pandas will change to not sort by default.\n",
      "\n",
      "To accept the future behavior, pass 'sort=False'.\n",
      "\n",
      "To retain the current behavior and silence the warning, pass 'sort=True'.\n",
      "\n",
      "  This is separate from the ipykernel package so we can avoid doing imports until\n"
     ]
    }
   ],
   "source": [
    "# concatenate the two dataframes\n",
    "df = pd.concat([df1, df2], axis=0, ignore_index=False, keys=None,\n",
    "          levels=None, names=None, verify_integrity=False, copy=True)"
   ]
  },
  {
   "cell_type": "code",
   "execution_count": 82,
   "metadata": {},
   "outputs": [
    {
     "name": "stdout",
     "output_type": "stream",
     "text": [
      "<class 'pandas.core.frame.DataFrame'>\n",
      "Int64Index: 90928 entries, 0 to 10312\n",
      "Data columns (total 11 columns):\n",
      "Airline               90928 non-null object\n",
      "Arrivals_Delayed      90928 non-null float64\n",
      "Arrivals_On_Time      90928 non-null float64\n",
      "Arriving_Port         90928 non-null object\n",
      "Departing_Port        90928 non-null object\n",
      "Departures_Delayed    90923 non-null float64\n",
      "Departures_On_Time    90928 non-null float64\n",
      "Month_Num             90928 non-null int64\n",
      "Sectors_Flown         90928 non-null int64\n",
      "Sectors_Scheduled     90928 non-null float64\n",
      "Year                  90928 non-null int64\n",
      "dtypes: float64(5), int64(3), object(3)\n",
      "memory usage: 8.3+ MB\n"
     ]
    }
   ],
   "source": [
    "# print info about data\n",
    "df.info()"
   ]
  },
  {
   "cell_type": "code",
   "execution_count": 83,
   "metadata": {},
   "outputs": [
    {
     "data": {
      "text/plain": [
       "Index(['Airline', 'Arrivals_Delayed', 'Arrivals_On_Time', 'Arriving_Port',\n",
       "       'Departing_Port', 'Departures_Delayed', 'Departures_On_Time',\n",
       "       'Month_Num', 'Sectors_Flown', 'Sectors_Scheduled', 'Year'],\n",
       "      dtype='object')"
      ]
     },
     "execution_count": 83,
     "metadata": {},
     "output_type": "execute_result"
    }
   ],
   "source": [
    "# retrieve columns names\n",
    "df.columns"
   ]
  },
  {
   "cell_type": "code",
   "execution_count": 84,
   "metadata": {},
   "outputs": [
    {
     "data": {
      "text/plain": [
       "Airline               0\n",
       "Arrivals_Delayed      0\n",
       "Arrivals_On_Time      0\n",
       "Arriving_Port         0\n",
       "Departing_Port        0\n",
       "Departures_Delayed    5\n",
       "Departures_On_Time    0\n",
       "Month_Num             0\n",
       "Sectors_Flown         0\n",
       "Sectors_Scheduled     0\n",
       "Year                  0\n",
       "dtype: int64"
      ]
     },
     "execution_count": 84,
     "metadata": {},
     "output_type": "execute_result"
    }
   ],
   "source": [
    "# check for null values\n",
    "df.isnull().sum()"
   ]
  },
  {
   "cell_type": "code",
   "execution_count": 85,
   "metadata": {},
   "outputs": [],
   "source": [
    "# fill null value with the mean of the column\n",
    "# df['Cancellations'].fillna(df['Cancellations'].mean(), inplace=True);\n",
    "df['Departures_Delayed'].fillna(df['Departures_Delayed'].mean(), inplace=True);"
   ]
  },
  {
   "cell_type": "code",
   "execution_count": 86,
   "metadata": {},
   "outputs": [
    {
     "data": {
      "text/plain": [
       "Airline               0\n",
       "Arrivals_Delayed      0\n",
       "Arrivals_On_Time      0\n",
       "Arriving_Port         0\n",
       "Departing_Port        0\n",
       "Departures_Delayed    0\n",
       "Departures_On_Time    0\n",
       "Month_Num             0\n",
       "Sectors_Flown         0\n",
       "Sectors_Scheduled     0\n",
       "Year                  0\n",
       "dtype: int64"
      ]
     },
     "execution_count": 86,
     "metadata": {},
     "output_type": "execute_result"
    }
   ],
   "source": [
    "# check for null values\n",
    "df.isnull().sum()"
   ]
  },
  {
   "cell_type": "code",
   "execution_count": 87,
   "metadata": {},
   "outputs": [],
   "source": [
    "# drop all null values\n",
    "df.dropna(inplace=True)"
   ]
  },
  {
   "cell_type": "code",
   "execution_count": 88,
   "metadata": {},
   "outputs": [
    {
     "data": {
      "text/html": [
       "<div>\n",
       "<style scoped>\n",
       "    .dataframe tbody tr th:only-of-type {\n",
       "        vertical-align: middle;\n",
       "    }\n",
       "\n",
       "    .dataframe tbody tr th {\n",
       "        vertical-align: top;\n",
       "    }\n",
       "\n",
       "    .dataframe thead th {\n",
       "        text-align: right;\n",
       "    }\n",
       "</style>\n",
       "<table border=\"1\" class=\"dataframe\">\n",
       "  <thead>\n",
       "    <tr style=\"text-align: right;\">\n",
       "      <th></th>\n",
       "      <th>Arrivals_Delayed</th>\n",
       "      <th>Arrivals_On_Time</th>\n",
       "      <th>Departures_Delayed</th>\n",
       "      <th>Departures_On_Time</th>\n",
       "      <th>Month_Num</th>\n",
       "      <th>Sectors_Flown</th>\n",
       "      <th>Sectors_Scheduled</th>\n",
       "      <th>Year</th>\n",
       "    </tr>\n",
       "  </thead>\n",
       "  <tbody>\n",
       "    <tr>\n",
       "      <th>count</th>\n",
       "      <td>90928.000000</td>\n",
       "      <td>90928.000000</td>\n",
       "      <td>90928.000000</td>\n",
       "      <td>90928.000000</td>\n",
       "      <td>90928.000000</td>\n",
       "      <td>90928.000000</td>\n",
       "      <td>90928.000000</td>\n",
       "      <td>90928.000000</td>\n",
       "    </tr>\n",
       "    <tr>\n",
       "      <th>mean</th>\n",
       "      <td>61.732382</td>\n",
       "      <td>281.884931</td>\n",
       "      <td>57.557033</td>\n",
       "      <td>286.065149</td>\n",
       "      <td>6.321221</td>\n",
       "      <td>343.618434</td>\n",
       "      <td>349.189865</td>\n",
       "      <td>2012.878706</td>\n",
       "    </tr>\n",
       "    <tr>\n",
       "      <th>std</th>\n",
       "      <td>415.289241</td>\n",
       "      <td>1845.712455</td>\n",
       "      <td>384.740318</td>\n",
       "      <td>1874.786132</td>\n",
       "      <td>3.426171</td>\n",
       "      <td>2245.180734</td>\n",
       "      <td>2280.903343</td>\n",
       "      <td>4.588466</td>\n",
       "    </tr>\n",
       "    <tr>\n",
       "      <th>min</th>\n",
       "      <td>0.000000</td>\n",
       "      <td>0.000000</td>\n",
       "      <td>0.000000</td>\n",
       "      <td>0.000000</td>\n",
       "      <td>1.000000</td>\n",
       "      <td>0.000000</td>\n",
       "      <td>0.000000</td>\n",
       "      <td>2004.000000</td>\n",
       "    </tr>\n",
       "    <tr>\n",
       "      <th>25%</th>\n",
       "      <td>6.000000</td>\n",
       "      <td>30.000000</td>\n",
       "      <td>6.000000</td>\n",
       "      <td>30.000000</td>\n",
       "      <td>3.000000</td>\n",
       "      <td>36.000000</td>\n",
       "      <td>36.000000</td>\n",
       "      <td>2009.000000</td>\n",
       "    </tr>\n",
       "    <tr>\n",
       "      <th>50%</th>\n",
       "      <td>14.000000</td>\n",
       "      <td>74.000000</td>\n",
       "      <td>14.000000</td>\n",
       "      <td>75.000000</td>\n",
       "      <td>6.000000</td>\n",
       "      <td>91.000000</td>\n",
       "      <td>92.000000</td>\n",
       "      <td>2014.000000</td>\n",
       "    </tr>\n",
       "    <tr>\n",
       "      <th>75%</th>\n",
       "      <td>32.000000</td>\n",
       "      <td>147.000000</td>\n",
       "      <td>31.000000</td>\n",
       "      <td>149.000000</td>\n",
       "      <td>9.000000</td>\n",
       "      <td>180.000000</td>\n",
       "      <td>183.000000</td>\n",
       "      <td>2017.000000</td>\n",
       "    </tr>\n",
       "    <tr>\n",
       "      <th>max</th>\n",
       "      <td>12840.000000</td>\n",
       "      <td>43291.000000</td>\n",
       "      <td>11933.000000</td>\n",
       "      <td>43537.000000</td>\n",
       "      <td>12.000000</td>\n",
       "      <td>49908.000000</td>\n",
       "      <td>50949.000000</td>\n",
       "      <td>2019.000000</td>\n",
       "    </tr>\n",
       "  </tbody>\n",
       "</table>\n",
       "</div>"
      ],
      "text/plain": [
       "       Arrivals_Delayed  Arrivals_On_Time  Departures_Delayed  \\\n",
       "count      90928.000000      90928.000000        90928.000000   \n",
       "mean          61.732382        281.884931           57.557033   \n",
       "std          415.289241       1845.712455          384.740318   \n",
       "min            0.000000          0.000000            0.000000   \n",
       "25%            6.000000         30.000000            6.000000   \n",
       "50%           14.000000         74.000000           14.000000   \n",
       "75%           32.000000        147.000000           31.000000   \n",
       "max        12840.000000      43291.000000        11933.000000   \n",
       "\n",
       "       Departures_On_Time     Month_Num  Sectors_Flown  Sectors_Scheduled  \\\n",
       "count        90928.000000  90928.000000   90928.000000       90928.000000   \n",
       "mean           286.065149      6.321221     343.618434         349.189865   \n",
       "std           1874.786132      3.426171    2245.180734        2280.903343   \n",
       "min              0.000000      1.000000       0.000000           0.000000   \n",
       "25%             30.000000      3.000000      36.000000          36.000000   \n",
       "50%             75.000000      6.000000      91.000000          92.000000   \n",
       "75%            149.000000      9.000000     180.000000         183.000000   \n",
       "max          43537.000000     12.000000   49908.000000       50949.000000   \n",
       "\n",
       "               Year  \n",
       "count  90928.000000  \n",
       "mean    2012.878706  \n",
       "std        4.588466  \n",
       "min     2004.000000  \n",
       "25%     2009.000000  \n",
       "50%     2014.000000  \n",
       "75%     2017.000000  \n",
       "max     2019.000000  "
      ]
     },
     "execution_count": 88,
     "metadata": {},
     "output_type": "execute_result"
    }
   ],
   "source": [
    "df.describe()"
   ]
  },
  {
   "cell_type": "code",
   "execution_count": 89,
   "metadata": {},
   "outputs": [],
   "source": [
    "# get numeric and categorical columns\n",
    "numeric_columns = df.select_dtypes(include=np.number).columns.tolist()\n",
    "categorical_columns = df.select_dtypes(include='object').columns.tolist()"
   ]
  },
  {
   "cell_type": "code",
   "execution_count": 90,
   "metadata": {},
   "outputs": [],
   "source": [
    "# convert numeric columns to int data type\n",
    "df[numeric_columns] = df[numeric_columns].apply(lambda x: x.astype(int))"
   ]
  },
  {
   "cell_type": "code",
   "execution_count": 91,
   "metadata": {},
   "outputs": [],
   "source": [
    "# convert categorical values to lower case & strip any white space\n",
    "df[categorical_columns] = df[categorical_columns].apply(lambda x: x.str.lower().str.strip())"
   ]
  },
  {
   "cell_type": "code",
   "execution_count": 92,
   "metadata": {},
   "outputs": [
    {
     "name": "stdout",
     "output_type": "stream",
     "text": [
      "<class 'pandas.core.frame.DataFrame'>\n",
      "Int64Index: 90928 entries, 0 to 10312\n",
      "Data columns (total 11 columns):\n",
      "Airline               90928 non-null object\n",
      "Arrivals_Delayed      90928 non-null int64\n",
      "Arrivals_On_Time      90928 non-null int64\n",
      "Arriving_Port         90928 non-null object\n",
      "Departing_Port        90928 non-null object\n",
      "Departures_Delayed    90928 non-null int64\n",
      "Departures_On_Time    90928 non-null int64\n",
      "Month_Num             90928 non-null int64\n",
      "Sectors_Flown         90928 non-null int64\n",
      "Sectors_Scheduled     90928 non-null int64\n",
      "Year                  90928 non-null int64\n",
      "dtypes: int64(8), object(3)\n",
      "memory usage: 8.3+ MB\n"
     ]
    }
   ],
   "source": [
    "# check data types\n",
    "df.info()"
   ]
  },
  {
   "cell_type": "code",
   "execution_count": 93,
   "metadata": {},
   "outputs": [
    {
     "data": {
      "text/html": [
       "<div>\n",
       "<style scoped>\n",
       "    .dataframe tbody tr th:only-of-type {\n",
       "        vertical-align: middle;\n",
       "    }\n",
       "\n",
       "    .dataframe tbody tr th {\n",
       "        vertical-align: top;\n",
       "    }\n",
       "\n",
       "    .dataframe thead th {\n",
       "        text-align: right;\n",
       "    }\n",
       "</style>\n",
       "<table border=\"1\" class=\"dataframe\">\n",
       "  <thead>\n",
       "    <tr style=\"text-align: right;\">\n",
       "      <th></th>\n",
       "      <th>Airline</th>\n",
       "      <th>Arrivals_Delayed</th>\n",
       "      <th>Arrivals_On_Time</th>\n",
       "      <th>Arriving_Port</th>\n",
       "      <th>Departing_Port</th>\n",
       "      <th>Departures_Delayed</th>\n",
       "      <th>Departures_On_Time</th>\n",
       "      <th>Month_Num</th>\n",
       "      <th>Sectors_Flown</th>\n",
       "      <th>Sectors_Scheduled</th>\n",
       "      <th>Year</th>\n",
       "    </tr>\n",
       "  </thead>\n",
       "  <tbody>\n",
       "    <tr>\n",
       "      <th>0</th>\n",
       "      <td>all airlines</td>\n",
       "      <td>35</td>\n",
       "      <td>120</td>\n",
       "      <td>brisbane</td>\n",
       "      <td>adelaide</td>\n",
       "      <td>32</td>\n",
       "      <td>123</td>\n",
       "      <td>1</td>\n",
       "      <td>155</td>\n",
       "      <td>155</td>\n",
       "      <td>2004</td>\n",
       "    </tr>\n",
       "    <tr>\n",
       "      <th>1</th>\n",
       "      <td>all airlines</td>\n",
       "      <td>3</td>\n",
       "      <td>72</td>\n",
       "      <td>canberra</td>\n",
       "      <td>adelaide</td>\n",
       "      <td>3</td>\n",
       "      <td>72</td>\n",
       "      <td>1</td>\n",
       "      <td>75</td>\n",
       "      <td>75</td>\n",
       "      <td>2004</td>\n",
       "    </tr>\n",
       "    <tr>\n",
       "      <th>2</th>\n",
       "      <td>all airlines</td>\n",
       "      <td>5</td>\n",
       "      <td>35</td>\n",
       "      <td>gold coast</td>\n",
       "      <td>adelaide</td>\n",
       "      <td>4</td>\n",
       "      <td>36</td>\n",
       "      <td>1</td>\n",
       "      <td>40</td>\n",
       "      <td>40</td>\n",
       "      <td>2004</td>\n",
       "    </tr>\n",
       "    <tr>\n",
       "      <th>3</th>\n",
       "      <td>all airlines</td>\n",
       "      <td>61</td>\n",
       "      <td>487</td>\n",
       "      <td>melbourne</td>\n",
       "      <td>adelaide</td>\n",
       "      <td>70</td>\n",
       "      <td>478</td>\n",
       "      <td>1</td>\n",
       "      <td>548</td>\n",
       "      <td>550</td>\n",
       "      <td>2004</td>\n",
       "    </tr>\n",
       "    <tr>\n",
       "      <th>4</th>\n",
       "      <td>all airlines</td>\n",
       "      <td>23</td>\n",
       "      <td>168</td>\n",
       "      <td>perth</td>\n",
       "      <td>adelaide</td>\n",
       "      <td>22</td>\n",
       "      <td>169</td>\n",
       "      <td>1</td>\n",
       "      <td>191</td>\n",
       "      <td>191</td>\n",
       "      <td>2004</td>\n",
       "    </tr>\n",
       "  </tbody>\n",
       "</table>\n",
       "</div>"
      ],
      "text/plain": [
       "        Airline  Arrivals_Delayed  Arrivals_On_Time Arriving_Port  \\\n",
       "0  all airlines                35               120      brisbane   \n",
       "1  all airlines                 3                72      canberra   \n",
       "2  all airlines                 5                35    gold coast   \n",
       "3  all airlines                61               487     melbourne   \n",
       "4  all airlines                23               168         perth   \n",
       "\n",
       "  Departing_Port  Departures_Delayed  Departures_On_Time  Month_Num  \\\n",
       "0       adelaide                  32                 123          1   \n",
       "1       adelaide                   3                  72          1   \n",
       "2       adelaide                   4                  36          1   \n",
       "3       adelaide                  70                 478          1   \n",
       "4       adelaide                  22                 169          1   \n",
       "\n",
       "   Sectors_Flown  Sectors_Scheduled  Year  \n",
       "0            155                155  2004  \n",
       "1             75                 75  2004  \n",
       "2             40                 40  2004  \n",
       "3            548                550  2004  \n",
       "4            191                191  2004  "
      ]
     },
     "execution_count": 93,
     "metadata": {},
     "output_type": "execute_result"
    }
   ],
   "source": [
    "df.head()"
   ]
  },
  {
   "cell_type": "markdown",
   "metadata": {},
   "source": [
    "# First: Univariate analysis (Investigate one feature every time)"
   ]
  },
  {
   "cell_type": "markdown",
   "metadata": {},
   "source": [
    "### 1. Investigate and plot catergorical features"
   ]
  },
  {
   "cell_type": "code",
   "execution_count": null,
   "metadata": {},
   "outputs": [],
   "source": [
    "def plot_value_counts(col_name):\n",
    "    '''\n",
    "        inputs:\n",
    "           col_name :  column name from data(dataframe)\n",
    "       return:\n",
    "           a dataframe it columns are  : [ col_name, count, percent  ]\n",
    "    '''\n",
    "    \n",
    "    ## 1- prepare dataframe to plot it \n",
    "    \n",
    "    # build data frame from counts for thr given column\n",
    "    values_count = pd.DataFrame(df[col_name].value_counts())\n",
    "    # reset index to get 'race' as a column\n",
    "    values_count.reset_index(inplace=True)\n",
    "    # change columns names\n",
    "    values_count.columns = [col_name,'count']\n",
    "    # add a column with the percentage of each data point to the sum of all data points.\n",
    "    values_count['percent'] = (values_count['count']/(values_count['count'].sum()) *100).round(2)\n",
    "    \n",
    "    \n",
    "\n",
    "    ##2- plot data\n",
    "    font_size = 20 - (.25 * len(values_count[col_name]))\n",
    "    ax = values_count.plot(kind='bar',x=col_name, y='count', figsize=(15, 7), legend=True, fontsize=font_size)\n",
    "    plt.xticks(rotation=45)\n",
    "    ax.set_title(col_name.capitalize(), fontsize=30)\n",
    "    ax.set_xlabel(col_name+' Types', fontsize=15)\n",
    "    ax.set_ylabel(\"Count\", fontsize=15)\n",
    "    plt.show()\n",
    "    \n",
    "    return values_count"
   ]
  },
  {
   "cell_type": "code",
   "execution_count": null,
   "metadata": {},
   "outputs": [],
   "source": [
    "for cat_col in categorical_columns:\n",
    "    _ = plot_value_counts(cat_col)"
   ]
  },
  {
   "cell_type": "markdown",
   "metadata": {},
   "source": [
    "### 2. Investigate and plot numerical features"
   ]
  },
  {
   "cell_type": "code",
   "execution_count": null,
   "metadata": {},
   "outputs": [],
   "source": [
    "def plot_histogram(col_name):\n",
    "    \n",
    "    series = df[col_name]\n",
    "    \n",
    "    # remove zero values items [ indicates NA values.]\n",
    "\n",
    "#     series = series[ series != 0 ]\n",
    "    \n",
    "    # get min amd max\n",
    "    smin,smax = series.min(),series.max()\n",
    "    \n",
    "    # remove outliers for +- three standard deviations.\n",
    "    threshold = 3 * series.std()\n",
    "    series = series[ ~( (series - series.mean()).abs() > threshold ) ]\n",
    "    \n",
    "    # get percentiles (2.5%, 50%, 97.5%) of data\n",
    "    percentiles = [ np.percentile(series,n) for n in (2.5,50,97.5) ]\n",
    "    \n",
    "    ax = series.plot(kind='hist',bins=100,figsize=(18,10),label='hist of '+col_name)\n",
    "    plt.axvline(x=percentiles[0],color='r')\n",
    "    plt.text(percentiles[0]-1,5,'2.5%',color='r',fontsize=20,rotation=45)\n",
    "    plt.axvline(x=percentiles[2],color='r')\n",
    "    plt.text(percentiles[2]-1,5,'95.5%',color='r',fontsize=20,rotation=45)\n",
    "    plt.legend()\n",
    "    ax.set_title('Histogram for {4:}\\nmedian = {0:,.2f}\\nmean = {1:,.2f}\\nmin = {2:,}\\nmax = {3:,}'.format(percentiles[1],series.mean(),smin,smax,col_name.capitalize().replace('.', ' '))\n",
    "                 , fontsize=25)\n",
    "    ax.set_xlabel(col_name.capitalize().replace('.', ' '), fontsize=18)\n",
    "    ax.set_ylabel(\"Freq\", fontsize=18)\n",
    "    plt.show()"
   ]
  },
  {
   "cell_type": "code",
   "execution_count": null,
   "metadata": {},
   "outputs": [],
   "source": [
    "print('Outliers above or below three standard deviations are excluded from the graph, mean and median calculations.')\n",
    "for col in numeric_columns :\n",
    "    plot_histogram( col )"
   ]
  },
  {
   "cell_type": "markdown",
   "metadata": {},
   "source": [
    "# Second: Multivariate analysis (Investigate at least two features every time)"
   ]
  },
  {
   "cell_type": "markdown",
   "metadata": {},
   "source": [
    "## Explore correlation between columns"
   ]
  },
  {
   "cell_type": "code",
   "execution_count": 94,
   "metadata": {},
   "outputs": [
    {
     "data": {
      "image/png": "[encoded data removed]",
      "text/plain": [
       "<Figure size 1080x1080 with 2 Axes>"
      ]
     },
     "metadata": {
      "needs_background": "light"
     },
     "output_type": "display_data"
    }
   ],
   "source": [
    "# plot heatop for columns correlations\n",
    "corr = df.corr()\n",
    "plt.figure(figsize=(15, 15))\n",
    "sns.heatmap(corr, annot=True)\n",
    "plt.show()"
   ]
  },
  {
   "cell_type": "markdown",
   "metadata": {},
   "source": [
    "# predicting month and airline"
   ]
  },
  {
   "cell_type": "code",
   "execution_count": 95,
   "metadata": {},
   "outputs": [],
   "source": [
    "my_df = df[['Airline', 'Month_Num', 'Departing_Port', 'Arriving_Port']]"
   ]
  },
  {
   "cell_type": "code",
   "execution_count": null,
   "metadata": {},
   "outputs": [],
   "source": [
    "# dummify data\n",
    "dummies_df = pd.get_dummies(my_df, drop_first=True)"
   ]
  },
  {
   "cell_type": "code",
   "execution_count": null,
   "metadata": {},
   "outputs": [],
   "source": [
    "# get our X and y\n",
    "X = my_df.drop(['Airline', 'Month_Num'], axis=1)\n",
    "y = my_df[['Airline', 'Month_Num']]\n",
    "\n",
    "# dummify\n",
    "X = pd.get_dummies(X)\n",
    "y = pd.get_dummies(y)"
   ]
  },
  {
   "cell_type": "code",
   "execution_count": null,
   "metadata": {},
   "outputs": [],
   "source": [
    "# split data into train, test sets\n",
    "X_train, X_test, y_train, y_test = train_test_split(X, y, test_size=0.3, random_state=42)"
   ]
  },
  {
   "cell_type": "code",
   "execution_count": null,
   "metadata": {},
   "outputs": [],
   "source": [
    "# Standradize the data\n",
    "\n",
    "scaler = StandardScaler()\n",
    "\n",
    "X_train = scaler.fit_transform(X_train)\n",
    "X_test = scaler.transform (X_test)"
   ]
  },
  {
   "cell_type": "code",
   "execution_count": null,
   "metadata": {},
   "outputs": [],
   "source": [
    "classifier = BaggingRegressor(RandomForestRegressor())\n",
    "# classifier = SVR()\n",
    "classifier.fit(X_train, y_train)\n",
    "\n",
    "# model parameters\n",
    "# param = {\"n_jobs\":[1, 2, 3]}\n",
    "# gs_cv = GridSearchCV(classifier, param_grid=param, cv=)\n",
    "# gs_cv.fit(X_train, y_train)\n",
    "\n",
    "\n",
    "# cfs = cross_val_score(classifier, X_train, y_train, cv=5).mean()\n",
    "\n",
    "y_hat = classifier.predict(X_test)\n",
    "# y_proba = classifier.predict_proba(X_test)\n",
    "\n",
    "print(\"Mean Square Error on test data is: \", mean_squared_error(y_test, y_hat))\n",
    "print(\"Accuracy is: \", classifier.score(X_test, y_test))\n",
    "# print(\"Mean Cross Vlas Score is: \",  cfs)"
   ]
  },
  {
   "cell_type": "markdown",
   "metadata": {},
   "source": [
    "# Predicting Departures_On_Time, Arrivals_On_Time, Departures_Delayed, Arrivals_Delayed"
   ]
  },
  {
   "cell_type": "code",
   "execution_count": 96,
   "metadata": {},
   "outputs": [],
   "source": [
    "# dummify data\n",
    "dummies_df = pd.get_dummies(df, drop_first=True)"
   ]
  },
  {
   "cell_type": "code",
   "execution_count": 101,
   "metadata": {},
   "outputs": [],
   "source": [
    "# get our X and y\n",
    "X = dummies_df.drop(['Departures_On_Time', 'Arrivals_On_Time',\n",
    "            'Departures_Delayed', 'Arrivals_Delayed', 'Sectors_Flown', 'Sectors_Scheduled', 'Year'], axis=1)\n",
    "y = dummies_df[['Departures_Delayed', 'Arrivals_Delayed']]"
   ]
  },
  {
   "cell_type": "code",
   "execution_count": 100,
   "metadata": {},
   "outputs": [
    {
     "data": {
      "text/html": [
       "<div>\n",
       "<style scoped>\n",
       "    .dataframe tbody tr th:only-of-type {\n",
       "        vertical-align: middle;\n",
       "    }\n",
       "\n",
       "    .dataframe tbody tr th {\n",
       "        vertical-align: top;\n",
       "    }\n",
       "\n",
       "    .dataframe thead th {\n",
       "        text-align: right;\n",
       "    }\n",
       "</style>\n",
       "<table border=\"1\" class=\"dataframe\">\n",
       "  <thead>\n",
       "    <tr style=\"text-align: right;\">\n",
       "      <th></th>\n",
       "      <th>Airline</th>\n",
       "      <th>Arriving_Port</th>\n",
       "      <th>Departing_Port</th>\n",
       "      <th>Month_Num</th>\n",
       "    </tr>\n",
       "  </thead>\n",
       "  <tbody>\n",
       "    <tr>\n",
       "      <th>0</th>\n",
       "      <td>all airlines</td>\n",
       "      <td>brisbane</td>\n",
       "      <td>adelaide</td>\n",
       "      <td>1</td>\n",
       "    </tr>\n",
       "    <tr>\n",
       "      <th>1</th>\n",
       "      <td>all airlines</td>\n",
       "      <td>canberra</td>\n",
       "      <td>adelaide</td>\n",
       "      <td>1</td>\n",
       "    </tr>\n",
       "    <tr>\n",
       "      <th>2</th>\n",
       "      <td>all airlines</td>\n",
       "      <td>gold coast</td>\n",
       "      <td>adelaide</td>\n",
       "      <td>1</td>\n",
       "    </tr>\n",
       "    <tr>\n",
       "      <th>3</th>\n",
       "      <td>all airlines</td>\n",
       "      <td>melbourne</td>\n",
       "      <td>adelaide</td>\n",
       "      <td>1</td>\n",
       "    </tr>\n",
       "    <tr>\n",
       "      <th>4</th>\n",
       "      <td>all airlines</td>\n",
       "      <td>perth</td>\n",
       "      <td>adelaide</td>\n",
       "      <td>1</td>\n",
       "    </tr>\n",
       "  </tbody>\n",
       "</table>\n",
       "</div>"
      ],
      "text/plain": [
       "        Airline Arriving_Port Departing_Port  Month_Num\n",
       "0  all airlines      brisbane       adelaide          1\n",
       "1  all airlines      canberra       adelaide          1\n",
       "2  all airlines    gold coast       adelaide          1\n",
       "3  all airlines     melbourne       adelaide          1\n",
       "4  all airlines         perth       adelaide          1"
      ]
     },
     "execution_count": 100,
     "metadata": {},
     "output_type": "execute_result"
    }
   ],
   "source": [
    "df.drop(['Departures_On_Time', 'Arrivals_On_Time',\n",
    "            'Departures_Delayed', 'Arrivals_Delayed', 'Sectors_Flown', 'Sectors_Scheduled', 'Year'], axis=1).head()"
   ]
  },
  {
   "cell_type": "code",
   "execution_count": 102,
   "metadata": {},
   "outputs": [
    {
     "data": {
      "text/plain": [
       "(90928, 100)"
      ]
     },
     "execution_count": 102,
     "metadata": {},
     "output_type": "execute_result"
    }
   ],
   "source": [
    "X.shape"
   ]
  },
  {
   "cell_type": "code",
   "execution_count": 103,
   "metadata": {},
   "outputs": [
    {
     "data": {
      "text/plain": [
       "(90928, 2)"
      ]
     },
     "execution_count": 103,
     "metadata": {},
     "output_type": "execute_result"
    }
   ],
   "source": [
    "y.shape"
   ]
  },
  {
   "cell_type": "code",
   "execution_count": 104,
   "metadata": {},
   "outputs": [],
   "source": [
    "# split data into train, test sets\n",
    "X_train, X_test, y_train, y_test = train_test_split(X, y, test_size=0.2, random_state=42)"
   ]
  },
  {
   "cell_type": "code",
   "execution_count": 105,
   "metadata": {},
   "outputs": [
    {
     "data": {
      "text/plain": [
       "((72742, 100), (72742, 2), (18186, 2))"
      ]
     },
     "execution_count": 105,
     "metadata": {},
     "output_type": "execute_result"
    }
   ],
   "source": [
    "X_train.shape, y_train.shape, y_test.shape"
   ]
  },
  {
   "cell_type": "code",
   "execution_count": 106,
   "metadata": {},
   "outputs": [],
   "source": [
    "# Standradize the data\n",
    "\n",
    "scaler = StandardScaler()\n",
    "\n",
    "X_train = scaler.fit_transform(X_train)\n",
    "X_test = scaler.transform (X_test)"
   ]
  },
  {
   "cell_type": "code",
   "execution_count": 107,
   "metadata": {},
   "outputs": [
    {
     "data": {
      "text/plain": [
       "(18186, 100)"
      ]
     },
     "execution_count": 107,
     "metadata": {},
     "output_type": "execute_result"
    }
   ],
   "source": [
    "X_test.shape"
   ]
  },
  {
   "cell_type": "code",
   "execution_count": null,
   "metadata": {},
   "outputs": [],
   "source": [
    "# LogisticRegression, LassoCV, RidgeCV\n",
    "# from sklearn.naive_bayes import BernoulliNB, GaussianNB, MultinomialNB\n",
    "# from sklearn.multioutput import MultiOutputRegressor\n",
    "# from sklearn.svm import SVR\n",
    "# from sklearn.ensemble import RandomForestRegressor, AdaBoostRegressor, BaggingRegressor, GradientBoostingRegressor"
   ]
  },
  {
   "cell_type": "code",
   "execution_count": null,
   "metadata": {},
   "outputs": [
    {
     "name": "stderr",
     "output_type": "stream",
     "text": [
      "/Users/Mohammed/anaconda3/lib/python3.7/site-packages/sklearn/linear_model/logistic.py:432: FutureWarning: Default solver will be changed to 'lbfgs' in 0.22. Specify a solver to silence this warning.\n",
      "  FutureWarning)\n",
      "/Users/Mohammed/anaconda3/lib/python3.7/site-packages/sklearn/linear_model/logistic.py:469: FutureWarning: Default multi_class will be changed to 'auto' in 0.22. Specify the multi_class option to silence this warning.\n",
      "  \"this warning.\", FutureWarning)\n"
     ]
    }
   ],
   "source": [
    "classifier = MultiOutputRegressor(SVR())\n",
    "classifier.fit(X_train, y_train)\n",
    "\n",
    "# model parameters\n",
    "# param = {\"n_jobs\":[1, 2, 3]}\n",
    "# gs_cv = GridSearchCV(classifier, param_grid=param, cv=)\n",
    "# gs_cv.fit(X_train, y_train)\n",
    "\n",
    "\n",
    "# cfs = cross_val_score(classifier, X_train, y_train, cv=5).mean()\n",
    "\n",
    "y_hat = classifier.predict(X_test)\n",
    "# y_proba = classifier.predict_proba(X_test)\n",
    "\n",
    "print(\"Mean Square Error on test data is: \", mean_squared_error(y_test, y_hat))\n",
    "print(\"Accuracy is: \", classifier.score(X_test, y_test))\n",
    "# print(\"Mean Cross Vlas Score is: \",  cfs)"
   ]
  },
  {
   "cell_type": "code",
   "execution_count": null,
   "metadata": {},
   "outputs": [],
   "source": [
    "classifier.predict_proba(X_test)"
   ]
  },
  {
   "cell_type": "code",
   "execution_count": null,
   "metadata": {},
   "outputs": [],
   "source": [
    "userInput_df = pd.DataFrame(columns=X.columns)"
   ]
  },
  {
   "cell_type": "code",
   "execution_count": null,
   "metadata": {},
   "outputs": [],
   "source": [
    "# instantiate an empty list\n",
    "l = []\n",
    "# loop through the length of our empty dataframe\n",
    "for i in list(userInput_df.columns):\n",
    "    # append a value of 0 to the list\n",
    "    l.append(0)\n",
    "\n",
    "# plug the first row with 0s 'the list'\n",
    "userInput_df.loc[1,:] = l"
   ]
  },
  {
   "cell_type": "code",
   "execution_count": null,
   "metadata": {},
   "outputs": [],
   "source": [
    "X_test.shape"
   ]
  },
  {
   "cell_type": "code",
   "execution_count": null,
   "metadata": {},
   "outputs": [],
   "source": [
    "userInput_df.shape"
   ]
  },
  {
   "cell_type": "code",
   "execution_count": null,
   "metadata": {},
   "outputs": [],
   "source": [
    "userInput_df.Departing_Port_albury = 1\n",
    "userInput_df.Arriving_Port_ballina = 1\n",
    "userInput_df.Airline_qantas = 1\n",
    "userInput_df.Sectors_Scheduled = 2\n",
    "userInput_df.Sectors_Flown = 100\n"
   ]
  },
  {
   "cell_type": "code",
   "execution_count": null,
   "metadata": {},
   "outputs": [],
   "source": [
    "userInput_df.shape"
   ]
  },
  {
   "cell_type": "code",
   "execution_count": null,
   "metadata": {},
   "outputs": [],
   "source": [
    "a = scaler.transform(userInput_df)"
   ]
  },
  {
   "cell_type": "code",
   "execution_count": null,
   "metadata": {},
   "outputs": [],
   "source": []
  },
  {
   "cell_type": "code",
   "execution_count": null,
   "metadata": {},
   "outputs": [],
   "source": [
    "classifier.predict(a)"
   ]
  },
  {
   "cell_type": "code",
   "execution_count": null,
   "metadata": {},
   "outputs": [],
   "source": []
  },
  {
   "cell_type": "code",
   "execution_count": null,
   "metadata": {},
   "outputs": [],
   "source": [
    "classifier.predict(X_test)[2]"
   ]
  },
  {
   "cell_type": "code",
   "execution_count": null,
   "metadata": {},
   "outputs": [],
   "source": [
    "# create dataframe with prediction\n",
    "prediction_df = pd.DataFrame(columns=y.columns, data=classifier.predict(X_test), index=y_test.index)\n",
    "prediction_df.head()"
   ]
  },
  {
   "cell_type": "code",
   "execution_count": null,
   "metadata": {},
   "outputs": [],
   "source": [
    "# actuall y_test\n",
    "y_test.head()"
   ]
  },
  {
   "cell_type": "code",
   "execution_count": null,
   "metadata": {},
   "outputs": [],
   "source": [
    "# #  train nueral network\n",
    "\n",
    "# model = Sequential()\n",
    "\n",
    "# n_cols = X_train.shape[1]\n",
    "# #add model layers\n",
    "# model.add(Dense(252, activation='relu', input_shape=(n_cols,)))\n",
    "# model.add(Dense(100, activation='relu'))\n",
    "# model.add(Dense((4)))\n",
    "\n",
    "\n",
    "# #compile model using mse as a measure of model performance\n",
    "# model.compile(optimizer='adam', loss='mean_squared_error', metrics=['accuracy'])\n",
    "\n",
    "\n",
    "# # set early stopping monitor so the model stops training when it won't improve anymore\n",
    "# early_stopping_monitor = EarlyStopping(patience=3)\n",
    "# #train model\n",
    "# model.fit(X_train, y_train, validation_split=0.2, epochs=20, callbacks=[early_stopping_monitor])\n",
    "\n",
    "\n",
    "\n",
    "# # predict\n",
    "# # model.predict(X_test)"
   ]
  },
  {
   "cell_type": "code",
   "execution_count": null,
   "metadata": {},
   "outputs": [],
   "source": [
    "model.predict(X_test)"
   ]
  },
  {
   "cell_type": "code",
   "execution_count": null,
   "metadata": {},
   "outputs": [],
   "source": []
  }
 ],
 "metadata": {
  "kernelspec": {
   "display_name": "Python 3",
   "language": "python",
   "name": "python3"
  },
  "language_info": {
   "codemirror_mode": {
    "name": "ipython",
    "version": 3
   },
   "file_extension": ".py",
   "mimetype": "text/x-python",
   "name": "python",
   "nbconvert_exporter": "python",
   "pygments_lexer": "ipython3",
   "version": "3.7.3"
  }
 },
 "nbformat": 4,
 "nbformat_minor": 2
}
